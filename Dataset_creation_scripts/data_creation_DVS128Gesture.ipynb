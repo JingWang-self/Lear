{
 "cells": [
  {
   "cell_type": "code",
   "execution_count": 1,
   "metadata": {},
   "outputs": [],
   "source": [
    "import os\n",
    "import json\n",
    "import csv\n"
   ]
  },
  {
   "cell_type": "code",
   "execution_count": 2,
   "metadata": {},
   "outputs": [],
   "source": [
    "\n",
    "# 定义目录和文件路径\n",
    "dataset = 'DVS128Gesture' # 'HARDVS', 'PAF', 'DVS128Gesture', 'SeAct'\n",
    "root_dir = '/root/autodl-tmp/{}'.format(dataset)\n",
    "base_dir = '/root/autodl-tmp/{}_Sampled_EZCLIP'.format(dataset)\n",
    "# label_mapping_file = '/root/wj/EZ_CLIP/AFE/{}/{}_idx_to_label.json'.format(dataset) # just for SeACT\n",
    "dataset_train_file = '/root/wj/EZ_CLIP/AFE/{}/{}_train.txt'.format(dataset, dataset)\n",
    "dataset_val_file = '/root/wj/EZ_CLIP/AFE/{}/{}_val.txt'.format(dataset,dataset)\n",
    "train_output_file = '/root/wj/EZ_CLIP/dataset_splits/{}/Zero-shot/train.txt'.format(dataset)\n",
    "val_output_file = '/root/wj/EZ_CLIP/dataset_splits/{}/Zero-shot/val.txt'.format(dataset)\n",
    "idx_mapping_file = '/root/wj/EZ_CLIP/AFE/{}/{}.json'.format(dataset,dataset)\n",
    "output_csv_file_labels = '/root/wj/EZ_CLIP/lists/{}_labels.csv'.format(dataset)\n",
    "# description_file = '/root/wj/EZ_CLIP/AFE/{}/{}_ds_cls.json'.format(dataset) # just for SeAct\n",
    "output_csv_file_description = '/root/wj/EZ_CLIP/GPT_discription/{}_gpt_Class_discription_new.csv'.format(dataset)\n",
    "output_file_paths = '/root/autodl-tmp/{}.txt'.format(dataset)\n"
   ]
  },
  {
   "cell_type": "markdown",
   "metadata": {},
   "source": [
    "# SeAct.txt"
   ]
  },
  {
   "cell_type": "code",
   "execution_count": 3,
   "metadata": {},
   "outputs": [
    {
     "name": "stdout",
     "output_type": "stream",
     "text": [
      "文件路径已写入 /root/autodl-tmp/DVS128Gesture.txt\n"
     ]
    }
   ],
   "source": [
    "\n",
    "# 获取所有叶结点文件的绝对路径\n",
    "def get_leaf_files(dir_path):\n",
    "    leaf_files = []\n",
    "    for root, dirs, files in os.walk(dir_path):\n",
    "        for file in files:\n",
    "            leaf_files.append(os.path.join(root, file))\n",
    "    return leaf_files\n",
    "\n",
    "# 将文件路径写入文本文件\n",
    "def write_paths_to_file(file_paths, output_file):\n",
    "    with open(output_file, 'w') as f:\n",
    "        for path in file_paths:\n",
    "            f.write(f\"{path}\\n\")\n",
    "\n",
    "# 获取所有叶结点文件的路径并写入文本文件\n",
    "leaf_files = get_leaf_files(root_dir)\n",
    "write_paths_to_file(leaf_files, output_file_paths)\n",
    "print(f\"文件路径已写入 {output_file_paths}\")\n"
   ]
  },
  {
   "cell_type": "markdown",
   "metadata": {},
   "source": [
    "# train.txt & val.txt"
   ]
  },
  {
   "cell_type": "code",
   "execution_count": 11,
   "metadata": {},
   "outputs": [
    {
     "name": "stdout",
     "output_type": "stream",
     "text": [
      "/root/wj/EZ_CLIP/AFE/DVS128Gesture/DVS128Gesture_train.txt\n",
      "['user01_fluorescent', 'user01_fluorescent_led', 'user01_lab', 'user01_led', 'user01_natural', 'user02_fluorescent', 'user02_fluorescent_led', 'user02_lab', 'user02_led', 'user02_natural', 'user03_fluorescent', 'user03_fluorescent_led', 'user03_led', 'user03_natural', 'user04_fluorescent', 'user04_fluorescent_led', 'user04_led', 'user04_natural', 'user05_fluorescent', 'user05_fluorescent_led', 'user05_lab', 'user05_led', 'user05_natural', 'user06_fluorescent', 'user06_fluorescent_led', 'user06_lab', 'user06_led', 'user06_natural', 'user07_fluorescent', 'user07_fluorescent_led', 'user07_lab', 'user07_led', 'user08_fluorescent', 'user08_fluorescent_led', 'user08_lab', 'user08_led', 'user09_fluorescent', 'user09_fluorescent_led', 'user09_lab', 'user09_led', 'user09_natural', 'user10_fluorescent', 'user10_fluorescent_led', 'user10_lab', 'user10_led', 'user11_fluorescent', 'user11_fluorescent_led', 'user11_natural', 'user12_fluorescent_led', 'user12_led', 'user13_fluorescent', 'user13_fluorescent_led', 'user13_lab', 'user13_led', 'user13_natural', 'user14_fluorescent', 'user14_fluorescent_led', 'user14_led', 'user14_natural', 'user15_fluorescent', 'user15_fluorescent_led', 'user15_lab', 'user15_led', 'user15_natural', 'user16_fluorescent', 'user16_lab', 'user16_led', 'user16_natural', 'user17_fluorescent', 'user17_fluorescent_led', 'user17_lab', 'user17_led', 'user17_natural', 'user18_fluorescent', 'user18_fluorescent_led', 'user18_lab', 'user18_led', 'user19_fluorescent', 'user19_fluorescent_led', 'user19_lab', 'user19_led', 'user19_natural', 'user20_fluorescent', 'user20_fluorescent_led', 'user20_led', 'user21_fluorescent', 'user21_fluorescent_led', 'user21_lab', 'user21_natural', 'user22_fluorescent', 'user22_fluorescent_led', 'user22_lab', 'user22_led', 'user22_natural', 'user23_fluorescent', 'user23_fluorescent_led', 'user23_lab', 'user23_led']\n",
      "train.txt and val.txt files have been created at /root/wj/EZ_CLIP/dataset_splits/DVS128Gesture/Zero-shot/train.txt and /root/wj/EZ_CLIP/dataset_splits/DVS128Gesture/Zero-shot/val.txt\n"
     ]
    }
   ],
   "source": [
    "'''\n",
    "# just for SeAct\n",
    "# 读取label映射\n",
    "with open(label_mapping_file, 'r') as f:\n",
    "    label_mapping = json.load(f)\n",
    "'''\n",
    "with open(idx_mapping_file, 'r') as f:\n",
    "    idx_mapping = json.load(f)\n",
    "\n",
    "\n",
    "# 读取train和val文件\n",
    "with open(dataset_train_file, 'r') as f:\n",
    "    print(dataset_train_file)\n",
    "    train_paths = [line.strip().split('/')[-1].replace('.aedat','') for line in f.readlines()]\n",
    "\n",
    "with open(dataset_val_file, 'r') as f:\n",
    "    val_paths = [line.strip().split('/')[-1].replace('.aedat','') for line in f.readlines()]\n",
    "\n",
    "print(train_paths)\n",
    "# 初始化输出内容\n",
    "train_output = []\n",
    "val_output = []\n",
    "\n",
    "# 遍历目录并生成输出内容\n",
    "for root, dirs, files in os.walk(base_dir):\n",
    "    if root == base_dir:  # 只遍历根目录下的子目录\n",
    "        for sub_dir in dirs: # hand_clapping\n",
    "            sub_dir_path = os.path.join(base_dir, sub_dir) # /root/autodl-tmp/{}_Sampled_EZCLIP/hand_clapping\n",
    "            for sub_sub_dir in os.listdir(sub_dir_path): # user01_fluorescent\n",
    "                full_path = os.path.join(sub_dir_path, sub_sub_dir) # /root/autodl-tmp/{}_Sampled_EZCLIP/arm crossing/chenjieneng_1.1\n",
    "                if os.path.isdir(full_path):\n",
    "                    file_list = [f for f in os.listdir(full_path) if f.endswith('.jpg')]\n",
    "                    num_files = len(file_list)\n",
    "                    label_index = idx_mapping.get(sub_dir, -1)\n",
    "                    output_line = f\"{full_path} {num_files} {label_index}\"\n",
    "                    # print(output_line)\n",
    "                    path_identifier = sub_sub_dir\n",
    "                    # print(path_identifier)\n",
    "                    if path_identifier in train_paths:\n",
    "                        train_output.append(output_line)\n",
    "                    elif path_identifier in val_paths:\n",
    "                        val_output.append(output_line)\n",
    "# 写入train_output_file\n",
    "with open(train_output_file, 'w') as f:\n",
    "    for line in train_output:\n",
    "        f.write(line + '\\n')\n",
    "\n",
    "# 写入val_output_file\n",
    "with open(val_output_file, 'w') as f:\n",
    "    for line in val_output:\n",
    "        f.write(line + '\\n')\n",
    "\n",
    "print(f\"train.txt and val.txt files have been created at {train_output_file} and {val_output_file}\")\n"
   ]
  },
  {
   "cell_type": "markdown",
   "metadata": {},
   "source": [
    "# labels.csv"
   ]
  },
  {
   "cell_type": "code",
   "execution_count": 5,
   "metadata": {},
   "outputs": [
    {
     "name": "stdout",
     "output_type": "stream",
     "text": [
      "CSV file has been created at /root/wj/EZ_CLIP/lists/DVS128Gesture_labels.csv\n"
     ]
    }
   ],
   "source": [
    "\n",
    "# 生成label的CSV文件\n",
    "with open(idx_mapping_file, 'r') as f:\n",
    "    idx_mapping = json.load(f)\n",
    "\n",
    "# 创建一个反向映射以便快速查找类名\n",
    "idx_to_class_name = [[value,key] for key, value in idx_mapping.items()]\n",
    "\n",
    "\n",
    "# 写入CSV文件\n",
    "with open(output_csv_file_labels, 'w', newline='') as csvfile:\n",
    "    csvwriter = csv.writer(csvfile)\n",
    "    csvwriter.writerow(['id', 'name'])\n",
    "    for row in idx_to_class_name:\n",
    "        csvwriter.writerow(row)\n",
    "\n",
    "print(f\"CSV file has been created at {output_csv_file_labels}\")\n"
   ]
  },
  {
   "cell_type": "markdown",
   "metadata": {},
   "source": [
    "# description.txt"
   ]
  },
  {
   "cell_type": "code",
   "execution_count": 6,
   "metadata": {},
   "outputs": [
    {
     "name": "stdout",
     "output_type": "stream",
     "text": [
      "CSV file has been created at /root/wj/EZ_CLIP/GPT_discription/DVS128Gesture_gpt_Class_discription_new.csv\n"
     ]
    }
   ],
   "source": [
    "# 生成label的CSV文件\n",
    "with open(idx_mapping_file, 'r') as f:\n",
    "    idx_mapping = json.load(f)\n",
    "ctx_prompt = 'A series of photos recording human action for '\n",
    "# 创建一个反向映射以便快速查找类名\n",
    "idx_classname_des = [[value,key,'\\n\\n' + ctx_prompt + key] for key, value in idx_mapping.items()]\n",
    "# 写入CSV文件\n",
    "with open(output_csv_file_description, 'w', newline='') as csvfile:\n",
    "    csvwriter = csv.writer(csvfile)\n",
    "    csvwriter.writerow(['SNo', 'Class Name', 'GPT3 discription'])\n",
    "    for row in idx_classname_des:\n",
    "        csvwriter.writerow(row)\n",
    "\n",
    "print(f\"CSV file has been created at {output_csv_file_description}\")\n"
   ]
  },
  {
   "cell_type": "code",
   "execution_count": null,
   "metadata": {},
   "outputs": [],
   "source": []
  }
 ],
 "metadata": {
  "kernelspec": {
   "display_name": "base",
   "language": "python",
   "name": "python3"
  },
  "language_info": {
   "codemirror_mode": {
    "name": "ipython",
    "version": 3
   },
   "file_extension": ".py",
   "mimetype": "text/x-python",
   "name": "python",
   "nbconvert_exporter": "python",
   "pygments_lexer": "ipython3",
   "version": "3.8.10"
  }
 },
 "nbformat": 4,
 "nbformat_minor": 2
}
